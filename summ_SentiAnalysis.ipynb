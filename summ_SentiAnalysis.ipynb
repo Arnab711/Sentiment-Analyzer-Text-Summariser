{
 "cells": [
  {
   "cell_type": "markdown",
   "id": "203e84b6-6aae-4abe-b325-3ed0afee1f5a",
   "metadata": {},
   "source": [
    "## 21052817 ARNAB MUKHERJEE NLP ACTIVITY"
   ]
  },
  {
   "cell_type": "code",
   "execution_count": 33,
   "id": "935978e1-5568-4a2e-a293-036601729e23",
   "metadata": {},
   "outputs": [],
   "source": [
    "import requests\n",
    "from bs4 import BeautifulSoup\n",
    "import nltk\n",
    "from nltk.corpus import stopwords\n",
    "from nltk.stem import WordNetLemmatizer\n",
    "#from vaderSentiment.vaderSentiment import SentimentIntensityAnalyzer\n",
    "from transformers import pipeline\n",
    "#import pandas\n",
    "from nltk.tokenize import word_tokenize\n",
    "import string\n",
    "from textblob import TextBlob"
   ]
  },
  {
   "cell_type": "code",
   "execution_count": 38,
   "id": "f67cc390-a751-4bb2-95a8-fb8b1317cf4d",
   "metadata": {},
   "outputs": [
    {
     "data": {
      "text/plain": [
       "'\\n\\n\\n\\r\\n\\tPress Information Bureau\\r\\n\\n\\n\\n\\n\\n\\n\\n\\n\\n\\n\\n\\n\\n\\n\\n\\n\\n\\n\\n\\n\\n\\n\\n\\n\\n\\n\\n\\n\\n\\r\\n                    Ministry of Finance\\r\\n                \\n   \\n\\n\\r\\n                        HIGHLIGHTS OF THE INTERIM UNION BUDGET 2024-25\\n\\n\\n\\n\\n\\n\\r\\n                Posted On:\\r\\n                01 FEB 2024 12:54PM by PIB Delhi\\r\\n            \\n\\n\\n\\nWith the ‘mantra’ of ‘Sabka Saath, Sabka Vikas, and Sabka Vishwas’ and the whole of nation approach of “Sabka Prayas”, the Union Minister for Finance and Corporate Affairs Smt. Nirmala Sitharaman presented the Interim Union Budget 2024-25 in Parliament, today. The key highlights of the Budget are as follows:\\n\\xa0\\nPart A\\nSocial Justice\\n\\nPrime Minister to focus on upliftment of four major castes, that is, ‘Garib’ (Poor), ‘Mahilayen’ (Women), ‘Yuva’ (Youth) and\\xa0 ‘Annadata’(Farmer).\\n\\n‘Garib Kalyan, Desh ka Kalyan’\\n\\nGovernment assisted 25 crore people out of multi-dimensional poverty in last 10 years.\\nDBT of Rs. 34 lakh crore using PM-Jan Dhan accounts led to savings of Rs. 2.7 lakh crore for the Government.\\nPM-SVANidhi provided credit assistance to 78 lakh street vendors. 2.3 lakh have received credit for the third time. \\nPM-JANMAN Yojana to aid the development of particularly vulnerable tribal groups (PVTG).\\nPM-Vishwakarma Yojana provides end-to-end support to artisans and crafts people engaged in 18 trades. \\n\\nWelfare of ‘Annadata’\\n\\nPM-KISAN SAMMAN Yojana provided financial assistance to 11.8 crore farmers.\\xa0 \\nUnder PM Fasal BimaYojana, crop insurance is given to 4 crore farmers\\nElectronic National Agriculture Market (e-NAM) integrated 1361 mandis, providing services to 1.8 crore farmers with trading volume of Rs. 3 lakh crore.\\n\\nMomentum for Nari Shakti\\n\\n30 crore Mudra Yojana loans given to women entrepreneurs. \\nFemale enrolment in higher education gone up by 28%. \\nIn STEM courses, girls and women constitute 43% of enrolment, one of the highest in the world.\\nOver 70% houses under PM Awas Yojana given to women from rural areas. \\n\\nPM Awas Yojana (Grameen) \\n\\nDespite COVID challenges, the target of three crore houses under PM Awas Yojana (Grameen) will be achieved soon.\\nTwo crore more houses to be taken up in the next five years.\\n\\nRooftop solarization and muft bijli\\n\\n1 crore households to obtain 300 units free electricity every month through rooftop solarization.\\nEach household is expected to save Rs.15000 to Rs.18000 annually.\\n\\nAyushman Bharat \\n\\nHealthcare cover under Ayushman Bharat scheme to be extended to all ASHA workers, Anganwadi Workers and Helpers. \\n\\nAgriculture and food processing \\n\\nPradhan Mantri Kisan Sampada Yojana has benefitted 38 lakh farmers and generated 10 lakh employment. \\nPradhan Mantri Formalisation of Micro Food Processing Enterprises Yojana has assisted 2.4 lakh SHGs and 60000 individuals with credit linkages. \\n\\nResearch and Innovation for catalyzing growth, employment and development \\n\\nA corpus of Rs.1 lakh crore to be established with fifty-year interest free loan to provide long-term financing or refinancing with long tenors and low or nil interest rates. \\nA new scheme to be launched for strengthening deep-tech technologies for defence purposes and expediting ‘atmanirbharta’.\\n\\nInfrastructure\\n\\nCapital expenditure outlay for Infrastructure development and employment generation to be increased by 11.1 per cent to Rs.11,11,111 crore, that will be 3.4 per cent of the GDP.\\n\\nRailways\\n\\n3 major economic railway corridor programmes identified under the PM Gati Shakti to be implemented to improve logistics efficiency and reduce cost\\n\\nEnergy, mineral and cement corridors\\nPort connectivity corridors\\nHigh traffic density corridors\\n\\n\\nForty thousand normal rail bogies to be converted to Vande Bharat standards.\\n\\nAviation Sector\\n\\nNumber of airports in the country doubled to 149.\\nFive hundred and seventeen new routes are carrying 1.3 crore passengers.\\nIndian carriers have placed orders for over 1000 new aircrafts.\\n\\nGreen Energy\\n\\nCoal gasification and liquefaction capacity of 100 MT to be set up by 2030.\\nPhased mandatory blending of compressed biogas (CBG) in compressed natural gas (CNG) for transport and piped natural gas (PNG) for domestic purposes to be mandated.\\n\\nTourism sector\\n\\nStates to be encouraged to take up comprehensive development of iconic tourist centres including their branding and marketing at global scale.\\nFramework for rating of the tourist centres based on quality of facilities and services to be established.\\nLong-term interest free loans to be provided to States for financing such development on matching basis.\\n\\nInvestments\\n\\nFDI inflow during 2014-23 of USD 596 billion was twice of the inflow during 2005-14.\\n\\nReforms in the States for ‘Viksit Bharat’\\n\\nA provision of Rs.75,000 crore rupees as fifty-year interest free loan is proposed to support milestone-linked reforms by the State Governments.\\n\\nRevised Estimates (RE) 2023-24\\n\\nRE of the total receipts other than borrowings is Rs.27.56 lakh crore, of which the tax receipts are Rs.23.24 lakh crore.\\nRE of the total expenditure is Rs.44.90 lakh crore.\\nRevenue receipts at Rs.30.03 lakh crore are expected to be higher than the Budget Estimate, reflecting strong growth momentum and formalization in the economy.\\nRE of the fiscal deficit is 5.8 per cent of GDP for 2023-24.\\n\\nBudget Estimates 2024-25\\n\\nTotal receipts other than borrowings and the total expenditure are estimated at Rs.30.80 and Rs.47.66 lakh crore respectively.\\nTax receipts are estimated at Rs.26.02 lakh crore.\\xa0\\xa0\\xa0 \\nScheme of fifty-year interest free loan for capital expenditure to states to be continued this year with total outlay of Rs.1.3 lakh crore.\\nFiscal deficit in 2024-25 is estimated to be 5.1 per cent of GDP \\nGross and net market borrowings through dated securities during 2024-25 are estimated at Rs.14.13 and Rs.11.75 lakh crore respectively.\\n\\n\\xa0\\nPart B\\n\\xa0\\nDirect taxes\\n\\nFM proposes to retain same tax rates for direct taxes\\nDirect tax collection tripled, return filers increased to 2.4 times, in the last 10 years\\nGovernment to improve tax payer services\\n\\nOutstanding direct tax demands upto Rs 25000 pertaining to the period upto FY 2009-10 withdrawn\\nOutstanding direct tax demands upto Rs 10000 for financial years 2010-11 to 2014-15 withdrawn\\nThis will benefit one crore tax payers\\n\\n\\nTax benefits to Start-Ups, investments made by Sovereign wealth funds or pension funds extended to 31.03.2025\\nTax exemption on certain income of IFSC units extended by a year to 31.03.2025 from 31.03.2024\\n\\nIndirect taxes\\n\\nFM proposes to retain same tax rates for indirect taxes and import duties\\nGST unified the highly fragmented indirect tax regime in India\\n\\nAverage monthly gross GST collection doubled to Rs 1.66 lakh crore this year\\nGST tax base has doubled\\nState\\xa0 SGST revenue buoyancy (including compensation released to states) increased to 1.22\\xa0 in post-GST period(2017-18 to 2022-23) from 0.72 in the pre-GST period (2012-13 to 2015-16)\\n94% of industry leaders view transition to GST as largely positive\\nGST led to supply chain optimization \\nGST reduced the compliance burden on trade and industry\\nLower logistics cost and taxes\\xa0 helped reduce prices of goods and services, benefiting the consumers\\n\\n\\n\\nTax rationalization efforts over the years\\n\\nNo tax liability for income upto Rs 7 lakh, up from Rs 2.2 lakh in\\xa0 FY 2013-14\\nPresumptive taxation threshold for retail businesses increased to Rs 3 crore from Rs 2 crore\\nPresumptive taxation threshold for professionals increased to Rs 75 lakh from Rs 50 lakh\\nCorporate income tax decreased to 22% from 30% for existing domestic companies \\nCorporate income tax rate at 15% for new manufacturing companies\\n\\nAchievements in tax-payer services\\n\\nAverage processing time of tax returns has reduced to 10 days from 93 days in 2013-14\\nFaceless Assessment and Appeal introduced for greater efficiency\\nUpdated income tax returns, new form 26AS and prefilled tax returns for simplified return filing\\nReforms in customs leading to reduced Import release time \\n\\nReduction by 47% to 71 hours at Inland Container Depots\\nReduction by 28% to 44 hours at\\xa0 Air Cargo complexes\\nReduction by 27% to 85 hours at Sea Ports\\n\\n\\n\\nEconomy-then and now\\n\\nIn 2014 there was a responsibility to mend the economy and put governance systems in order. The need of the hour was to:\\n\\nAttract investments\\nBuild support to the much-needed reforms\\nGive hope to the people\\n\\n\\n\\xa0The government succeeded with a strong belief of ‘nation-first’\\n“It is now appropriate to look at where we were till 2014 and where we are now”: FM\\n\\nThe Government will lay a White Paper on the table of the house.\\n\\n\\n\\n***\\nYB/NB/SNC/LP/KSS/RK/PD/CNAN\\n\\n\\n(Release ID: 2001130)\\nVisitor Counter : 32254\\n\\n\\n\\n\\n\\n\\n\\nRead this release in: \\r\\n                \\r\\n                        \\r\\n                        \\r\\n                            Kannada \\r\\n                    \\r\\n                        ,\\r\\n                    \\r\\n                        \\r\\n                        \\r\\n                            Malayalam \\r\\n                    \\r\\n                        ,\\r\\n                    \\r\\n                        \\r\\n                        \\r\\n                            Assamese \\r\\n                    \\r\\n                        ,\\r\\n                    \\r\\n                        \\r\\n                        \\r\\n                            Urdu \\r\\n                    \\r\\n                        ,\\r\\n                    \\r\\n                        \\r\\n                        \\r\\n                            Hindi \\r\\n                    \\r\\n                        ,\\r\\n                    \\r\\n                        \\r\\n                        \\r\\n                            Hindi \\r\\n                    \\r\\n                        ,\\r\\n                    \\r\\n                        \\r\\n                        \\r\\n                            Nepali \\r\\n                    \\r\\n                        ,\\r\\n                    \\r\\n                        \\r\\n                        \\r\\n                            Marathi \\r\\n                    \\r\\n                        ,\\r\\n                    \\r\\n                        \\r\\n                        \\r\\n                            Bengali \\r\\n                    \\r\\n                        ,\\r\\n                    \\r\\n                        \\r\\n                        \\r\\n                            Manipuri \\r\\n                    \\r\\n                        ,\\r\\n                    \\r\\n                        \\r\\n                        \\r\\n                            Punjabi \\r\\n                    \\r\\n                        ,\\r\\n                    \\r\\n                        \\r\\n                        \\r\\n                            Gujarati \\r\\n                    \\r\\n                        ,\\r\\n                    \\r\\n                        \\r\\n                        \\r\\n                            Odia \\r\\n                    \\r\\n                        ,\\r\\n                    \\r\\n                        \\r\\n                        \\r\\n                            Tamil \\r\\n                    \\r\\n                        ,\\r\\n                    \\r\\n                        \\r\\n                        \\r\\n                            Telugu \\n\\n\\n\\n\\n\\n\\n\\n\\n\\n\\n\\n\\n\\n\\n\\n\\n\\n\\n\\n\\n\\n\\n\\n\\n\\n\\n\\n\\n\\n\\n\\n\\n\\n\\n\\n\\r\\n                        Ministry of Finance\\r\\n                        \\n\\n\\r\\n                            HIGHLIGHTS OF THE INTERIM UNION BUDGET 2024-25\\r\\n                        \\n\\n\\n\\n\\n\\n\\n\\r\\n                            Posted On:\\r\\n                        01 FEB 2024 12:54PM by PIB Delhi\\r\\n                        \\n\\n\\n\\nWith the ‘mantra’ of ‘Sabka Saath, Sabka Vikas, and Sabka Vishwas’ and the whole of nation approach of “Sabka Prayas”, the Union Minister for Finance and Corporate Affairs Smt. Nirmala Sitharaman presented the Interim Union Budget 2024-25 in Parliament, today. The key highlights of the Budget are as follows:\\n\\xa0\\nPart A\\nSocial Justice\\n\\nPrime Minister to focus on upliftment of four major castes, that is, ‘Garib’ (Poor), ‘Mahilayen’ (Women), ‘Yuva’ (Youth) and\\xa0 ‘Annadata’(Farmer).\\n\\n‘Garib Kalyan, Desh ka Kalyan’\\n\\nGovernment assisted 25 crore people out of multi-dimensional poverty in last 10 years.\\nDBT of Rs. 34 lakh crore using PM-Jan Dhan accounts led to savings of Rs. 2.7 lakh crore for the Government.\\nPM-SVANidhi provided credit assistance to 78 lakh street vendors. 2.3 lakh have received credit for the third time. \\nPM-JANMAN Yojana to aid the development of particularly vulnerable tribal groups (PVTG).\\nPM-Vishwakarma Yojana provides end-to-end support to artisans and crafts people engaged in 18 trades. \\n\\nWelfare of ‘Annadata’\\n\\nPM-KISAN SAMMAN Yojana provided financial assistance to 11.8 crore farmers.\\xa0 \\nUnder PM Fasal BimaYojana, crop insurance is given to 4 crore farmers\\nElectronic National Agriculture Market (e-NAM) integrated 1361 mandis, providing services to 1.8 crore farmers with trading volume of Rs. 3 lakh crore.\\n\\nMomentum for Nari Shakti\\n\\n30 crore Mudra Yojana loans given to women entrepreneurs. \\nFemale enrolment in higher education gone up by 28%. \\nIn STEM courses, girls and women constitute 43% of enrolment, one of the highest in the world.\\nOver 70% houses under PM Awas Yojana given to women from rural areas. \\n\\nPM Awas Yojana (Grameen) \\n\\nDespite COVID challenges, the target of three crore houses under PM Awas Yojana (Grameen) will be achieved soon.\\nTwo crore more houses to be taken up in the next five years.\\n\\nRooftop solarization and muft bijli\\n\\n1 crore households to obtain 300 units free electricity every month through rooftop solarization.\\nEach household is expected to save Rs.15000 to Rs.18000 annually.\\n\\nAyushman Bharat \\n\\nHealthcare cover under Ayushman Bharat scheme to be extended to all ASHA workers, Anganwadi Workers and Helpers. \\n\\nAgriculture and food processing \\n\\nPradhan Mantri Kisan Sampada Yojana has benefitted 38 lakh farmers and generated 10 lakh employment. \\nPradhan Mantri Formalisation of Micro Food Processing Enterprises Yojana has assisted 2.4 lakh SHGs and 60000 individuals with credit linkages. \\n\\nResearch and Innovation for catalyzing growth, employment and development \\n\\nA corpus of Rs.1 lakh crore to be established with fifty-year interest free loan to provide long-term financing or refinancing with long tenors and low or nil interest rates. \\nA new scheme to be launched for strengthening deep-tech technologies for defence purposes and expediting ‘atmanirbharta’.\\n\\nInfrastructure\\n\\nCapital expenditure outlay for Infrastructure development and employment generation to be increased by 11.1 per cent to Rs.11,11,111 crore, that will be 3.4 per cent of the GDP.\\n\\nRailways\\n\\n3 major economic railway corridor programmes identified under the PM Gati Shakti to be implemented to improve logistics efficiency and reduce cost\\n\\nEnergy, mineral and cement corridors\\nPort connectivity corridors\\nHigh traffic density corridors\\n\\n\\nForty thousand normal rail bogies to be converted to Vande Bharat standards.\\n\\nAviation Sector\\n\\nNumber of airports in the country doubled to 149.\\nFive hundred and seventeen new routes are carrying 1.3 crore passengers.\\nIndian carriers have placed orders for over 1000 new aircrafts.\\n\\nGreen Energy\\n\\nCoal gasification and liquefaction capacity of 100 MT to be set up by 2030.\\nPhased mandatory blending of compressed biogas (CBG) in compressed natural gas (CNG) for transport and piped natural gas (PNG) for domestic purposes to be mandated.\\n\\nTourism sector\\n\\nStates to be encouraged to take up comprehensive development of iconic tourist centres including their branding and marketing at global scale.\\nFramework for rating of the tourist centres based on quality of facilities and services to be established.\\nLong-term interest free loans to be provided to States for financing such development on matching basis.\\n\\nInvestments\\n\\nFDI inflow during 2014-23 of USD 596 billion was twice of the inflow during 2005-14.\\n\\nReforms in the States for ‘Viksit Bharat’\\n\\nA provision of Rs.75,000 crore rupees as fifty-year interest free loan is proposed to support milestone-linked reforms by the State Governments.\\n\\nRevised Estimates (RE) 2023-24\\n\\nRE of the total receipts other than borrowings is Rs.27.56 lakh crore, of which the tax receipts are Rs.23.24 lakh crore.\\nRE of the total expenditure is Rs.44.90 lakh crore.\\nRevenue receipts at Rs.30.03 lakh crore are expected to be higher than the Budget Estimate, reflecting strong growth momentum and formalization in the economy.\\nRE of the fiscal deficit is 5.8 per cent of GDP for 2023-24.\\n\\nBudget Estimates 2024-25\\n\\nTotal receipts other than borrowings and the total expenditure are estimated at Rs.30.80 and Rs.47.66 lakh crore respectively.\\nTax receipts are estimated at Rs.26.02 lakh crore.\\xa0\\xa0\\xa0 \\nScheme of fifty-year interest free loan for capital expenditure to states to be continued this year with total outlay of Rs.1.3 lakh crore.\\nFiscal deficit in 2024-25 is estimated to be 5.1 per cent of GDP \\nGross and net market borrowings through dated securities during 2024-25 are estimated at Rs.14.13 and Rs.11.75 lakh crore respectively.\\n\\n\\xa0\\nPart B\\n\\xa0\\nDirect taxes\\n\\nFM proposes to retain same tax rates for direct taxes\\nDirect tax collection tripled, return filers increased to 2.4 times, in the last 10 years\\nGovernment to improve tax payer services\\n\\nOutstanding direct tax demands upto Rs 25000 pertaining to the period upto FY 2009-10 withdrawn\\nOutstanding direct tax demands upto Rs 10000 for financial years 2010-11 to 2014-15 withdrawn\\nThis will benefit one crore tax payers\\n\\n\\nTax benefits to Start-Ups, investments made by Sovereign wealth funds or pension funds extended to 31.03.2025\\nTax exemption on certain income of IFSC units extended by a year to 31.03.2025 from 31.03.2024\\n\\nIndirect taxes\\n\\nFM proposes to retain same tax rates for indirect taxes and import duties\\nGST unified the highly fragmented indirect tax regime in India\\n\\nAverage monthly gross GST collection doubled to Rs 1.66 lakh crore this year\\nGST tax base has doubled\\nState\\xa0 SGST revenue buoyancy (including compensation released to states) increased to 1.22\\xa0 in post-GST period(2017-18 to 2022-23) from 0.72 in the pre-GST period (2012-13 to 2015-16)\\n94% of industry leaders view transition to GST as largely positive\\nGST led to supply chain optimization \\nGST reduced the compliance burden on trade and industry\\nLower logistics cost and taxes\\xa0 helped reduce prices of goods and services, benefiting the consumers\\n\\n\\n\\nTax rationalization efforts over the years\\n\\nNo tax liability for income upto Rs 7 lakh, up from Rs 2.2 lakh in\\xa0 FY 2013-14\\nPresumptive taxation threshold for retail businesses increased to Rs 3 crore from Rs 2 crore\\nPresumptive taxation threshold for professionals increased to Rs 75 lakh from Rs 50 lakh\\nCorporate income tax decreased to 22% from 30% for existing domestic companies \\nCorporate income tax rate at 15% for new manufacturing companies\\n\\nAchievements in tax-payer services\\n\\nAverage processing time of tax returns has reduced to 10 days from 93 days in 2013-14\\nFaceless Assessment and Appeal introduced for greater efficiency\\nUpdated income tax returns, new form 26AS and prefilled tax returns for simplified return filing\\nReforms in customs leading to reduced Import release time \\n\\nReduction by 47% to 71 hours at Inland Container Depots\\nReduction by 28% to 44 hours at\\xa0 Air Cargo complexes\\nReduction by 27% to 85 hours at Sea Ports\\n\\n\\n\\nEconomy-then and now\\n\\nIn 2014 there was a responsibility to mend the economy and put governance systems in order. The need of the hour was to:\\n\\nAttract investments\\nBuild support to the much-needed reforms\\nGive hope to the people\\n\\n\\n\\xa0The government succeeded with a strong belief of ‘nation-first’\\n“It is now appropriate to look at where we were till 2014 and where we are now”: FM\\n\\nThe Government will lay a White Paper on the table of the house.\\n\\n\\n\\n***\\nYB/NB/SNC/LP/KSS/RK/PD/CNAN\\n\\n\\n\\n\\n\\n\\r\\n                            (Release ID: 2001130)\\r\\n                        \\n\\n\\n\\n\\n\\n\\n\\n\\n\\n\\n\\n\\n\\n \\n\\n\\n \\n\\n\\n\\n\\n\\n\\n\\n\\n\\n\\n\\n\\n\\n\\n\\n\\n'"
      ]
     },
     "execution_count": 38,
     "metadata": {},
     "output_type": "execute_result"
    }
   ],
   "source": [
    "#Web scraping\n",
    "url = \"https://pib.gov.in/PressReleasePage.aspx?PRID=2001130#:~:text=Budget%20Estimates%202024%2D25&text=Tax%20receipts%20are%20estimated%20at,1.3%20lakh%20crore.\"\n",
    "response = requests.get(url)\n",
    "soup = BeautifulSoup(response.content, \"html.parser\")\n",
    "scraped_text = soup.get_text()\n",
    "scraped_text"
   ]
  },
  {
   "cell_type": "code",
   "execution_count": 35,
   "id": "50681ab5-3931-49ef-902b-bf9be5788d2f",
   "metadata": {},
   "outputs": [
    {
     "data": {
      "text/plain": [
       "{'a',\n",
       " 'about',\n",
       " 'above',\n",
       " 'after',\n",
       " 'again',\n",
       " 'against',\n",
       " 'ain',\n",
       " 'all',\n",
       " 'am',\n",
       " 'an',\n",
       " 'and',\n",
       " 'any',\n",
       " 'are',\n",
       " 'aren',\n",
       " \"aren't\",\n",
       " 'as',\n",
       " 'at',\n",
       " 'be',\n",
       " 'because',\n",
       " 'been',\n",
       " 'before',\n",
       " 'being',\n",
       " 'below',\n",
       " 'between',\n",
       " 'both',\n",
       " 'but',\n",
       " 'by',\n",
       " 'can',\n",
       " 'couldn',\n",
       " \"couldn't\",\n",
       " 'd',\n",
       " 'did',\n",
       " 'didn',\n",
       " \"didn't\",\n",
       " 'do',\n",
       " 'does',\n",
       " 'doesn',\n",
       " \"doesn't\",\n",
       " 'doing',\n",
       " 'don',\n",
       " \"don't\",\n",
       " 'down',\n",
       " 'during',\n",
       " 'each',\n",
       " 'few',\n",
       " 'for',\n",
       " 'from',\n",
       " 'further',\n",
       " 'had',\n",
       " 'hadn',\n",
       " \"hadn't\",\n",
       " 'has',\n",
       " 'hasn',\n",
       " \"hasn't\",\n",
       " 'have',\n",
       " 'haven',\n",
       " \"haven't\",\n",
       " 'having',\n",
       " 'he',\n",
       " 'her',\n",
       " 'here',\n",
       " 'hers',\n",
       " 'herself',\n",
       " 'him',\n",
       " 'himself',\n",
       " 'his',\n",
       " 'how',\n",
       " 'i',\n",
       " 'if',\n",
       " 'in',\n",
       " 'into',\n",
       " 'is',\n",
       " 'isn',\n",
       " \"isn't\",\n",
       " 'it',\n",
       " \"it's\",\n",
       " 'its',\n",
       " 'itself',\n",
       " 'just',\n",
       " 'll',\n",
       " 'm',\n",
       " 'ma',\n",
       " 'me',\n",
       " 'mightn',\n",
       " \"mightn't\",\n",
       " 'more',\n",
       " 'most',\n",
       " 'mustn',\n",
       " \"mustn't\",\n",
       " 'my',\n",
       " 'myself',\n",
       " 'needn',\n",
       " \"needn't\",\n",
       " 'no',\n",
       " 'nor',\n",
       " 'not',\n",
       " 'now',\n",
       " 'o',\n",
       " 'of',\n",
       " 'off',\n",
       " 'on',\n",
       " 'once',\n",
       " 'only',\n",
       " 'or',\n",
       " 'other',\n",
       " 'our',\n",
       " 'ours',\n",
       " 'ourselves',\n",
       " 'out',\n",
       " 'over',\n",
       " 'own',\n",
       " 're',\n",
       " 's',\n",
       " 'same',\n",
       " 'shan',\n",
       " \"shan't\",\n",
       " 'she',\n",
       " \"she's\",\n",
       " 'should',\n",
       " \"should've\",\n",
       " 'shouldn',\n",
       " \"shouldn't\",\n",
       " 'so',\n",
       " 'some',\n",
       " 'such',\n",
       " 't',\n",
       " 'than',\n",
       " 'that',\n",
       " \"that'll\",\n",
       " 'the',\n",
       " 'their',\n",
       " 'theirs',\n",
       " 'them',\n",
       " 'themselves',\n",
       " 'then',\n",
       " 'there',\n",
       " 'these',\n",
       " 'they',\n",
       " 'this',\n",
       " 'those',\n",
       " 'through',\n",
       " 'to',\n",
       " 'too',\n",
       " 'under',\n",
       " 'until',\n",
       " 'up',\n",
       " 've',\n",
       " 'very',\n",
       " 'was',\n",
       " 'wasn',\n",
       " \"wasn't\",\n",
       " 'we',\n",
       " 'were',\n",
       " 'weren',\n",
       " \"weren't\",\n",
       " 'what',\n",
       " 'when',\n",
       " 'where',\n",
       " 'which',\n",
       " 'while',\n",
       " 'who',\n",
       " 'whom',\n",
       " 'why',\n",
       " 'will',\n",
       " 'with',\n",
       " 'won',\n",
       " \"won't\",\n",
       " 'wouldn',\n",
       " \"wouldn't\",\n",
       " 'y',\n",
       " 'you',\n",
       " \"you'd\",\n",
       " \"you'll\",\n",
       " \"you're\",\n",
       " \"you've\",\n",
       " 'your',\n",
       " 'yours',\n",
       " 'yourself',\n",
       " 'yourselves'}"
      ]
     },
     "execution_count": 35,
     "metadata": {},
     "output_type": "execute_result"
    }
   ],
   "source": [
    "# Preprocess data\n",
    "stop_words = set(nltk.corpus.stopwords.words(\"english\"))\n",
    "stop_words"
   ]
  },
  {
   "cell_type": "code",
   "execution_count": 39,
   "id": "9d03bc6c-04ce-4683-82f0-9c6dcbb090ad",
   "metadata": {},
   "outputs": [
    {
     "name": "stdout",
     "output_type": "stream",
     "text": [
      "['Press', 'Information', 'Bureau', 'Ministry', 'Finance', 'HIGHLIGHTS', 'INTERIM', 'UNION', 'BUDGET', '2024-25', 'Posted', ':', '01', 'FEB', '2024', '12:54PM', 'PIB', 'Delhi', '‘', 'mantra', '’', '‘', 'Sabka', 'Saath', ',', 'Sabka', 'Vikas', ',', 'Sabka', 'Vishwas', '’', 'whole', 'nation', 'approach', '“', 'Sabka', 'Prayas', '”', ',', 'Union', 'Minister', 'Finance', 'Corporate', 'Affairs', 'Smt', '.', 'Nirmala', 'Sitharaman', 'presented', 'Interim', 'Union', 'Budget', '2024-25', 'Parliament', ',', 'today', '.', 'key', 'highlight', 'Budget', 'follows', ':', 'Part', 'Social', 'Justice', 'Prime', 'Minister', 'focus', 'upliftment', 'four', 'major', 'caste', ',', ',', '‘', 'Garib', '’', '(', 'Poor', ')', ',', '‘', 'Mahilayen', '’', '(', 'Women', ')', ',', '‘', 'Yuva', '’', '(', 'Youth', ')', '‘', 'Annadata', '’', '(', 'Farmer', ')', '.', '‘', 'Garib', 'Kalyan', ',', 'Desh', 'ka', 'Kalyan', '’', 'Government', 'assisted', '25', 'crore', 'people', 'multi-dimensional', 'poverty', 'last', '10', 'year', '.', 'DBT', 'Rs', '.', '34', 'lakh', 'crore', 'using', 'PM-Jan', 'Dhan', 'account', 'led', 'saving', 'Rs', '.', '2.7', 'lakh', 'crore', 'Government', '.', 'PM-SVANidhi', 'provided', 'credit', 'assistance', '78', 'lakh', 'street', 'vendor', '.', '2.3', 'lakh', 'received', 'credit', 'third', 'time', '.', 'PM-JANMAN', 'Yojana', 'aid', 'development', 'particularly', 'vulnerable', 'tribal', 'group', '(', 'PVTG', ')', '.', 'PM-Vishwakarma', 'Yojana', 'provides', 'end-to-end', 'support', 'artisan', 'craft', 'people', 'engaged', '18', 'trade', '.', 'Welfare', '‘', 'Annadata', '’', 'PM-KISAN', 'SAMMAN', 'Yojana', 'provided', 'financial', 'assistance', '11.8', 'crore', 'farmer', '.', 'PM', 'Fasal', 'BimaYojana', ',', 'crop', 'insurance', 'given', '4', 'crore', 'farmer', 'Electronic', 'National', 'Agriculture', 'Market', '(', 'e-NAM', ')', 'integrated', '1361', 'mandis', ',', 'providing', 'service', '1.8', 'crore', 'farmer', 'trading', 'volume', 'Rs', '.', '3', 'lakh', 'crore', '.', 'Momentum', 'Nari', 'Shakti', '30', 'crore', 'Mudra', 'Yojana', 'loan', 'given', 'woman', 'entrepreneur', '.', 'Female', 'enrolment', 'higher', 'education', 'gone', '28', '%', '.', 'STEM', 'course', ',', 'girl', 'woman', 'constitute', '43', '%', 'enrolment', ',', 'one', 'highest', 'world', '.', '70', '%', 'house', 'PM', 'Awas', 'Yojana', 'given', 'woman', 'rural', 'area', '.', 'PM', 'Awas', 'Yojana', '(', 'Grameen', ')', 'Despite', 'COVID', 'challenge', ',', 'target', 'three', 'crore', 'house', 'PM', 'Awas', 'Yojana', '(', 'Grameen', ')', 'achieved', 'soon', '.', 'Two', 'crore', 'house', 'taken', 'next', 'five', 'year', '.', 'Rooftop', 'solarization', 'muft', 'bijli', '1', 'crore', 'household', 'obtain', '300', 'unit', 'free', 'electricity', 'every', 'month', 'rooftop', 'solarization', '.', 'household', 'expected', 'save', 'Rs.15000', 'Rs.18000', 'annually', '.', 'Ayushman', 'Bharat', 'Healthcare', 'cover', 'Ayushman', 'Bharat', 'scheme', 'extended', 'ASHA', 'worker', ',', 'Anganwadi', 'Workers', 'Helpers', '.', 'Agriculture', 'food', 'processing', 'Pradhan', 'Mantri', 'Kisan', 'Sampada', 'Yojana', 'benefitted', '38', 'lakh', 'farmer', 'generated', '10', 'lakh', 'employment', '.', 'Pradhan', 'Mantri', 'Formalisation', 'Micro', 'Food', 'Processing', 'Enterprises', 'Yojana', 'assisted', '2.4', 'lakh', 'SHGs', '60000', 'individual', 'credit', 'linkage', '.', 'Research', 'Innovation', 'catalyzing', 'growth', ',', 'employment', 'development', 'corpus', 'Rs.1', 'lakh', 'crore', 'established', 'fifty-year', 'interest', 'free', 'loan', 'provide', 'long-term', 'financing', 'refinancing', 'long', 'tenor', 'low', 'nil', 'interest', 'rate', '.', 'new', 'scheme', 'launched', 'strengthening', 'deep-tech', 'technology', 'defence', 'purpose', 'expediting', '‘', 'atmanirbharta', '’', '.', 'Infrastructure', 'Capital', 'expenditure', 'outlay', 'Infrastructure', 'development', 'employment', 'generation', 'increased', '11.1', 'per', 'cent', 'Rs.11,11,111', 'crore', ',', '3.4', 'per', 'cent', 'GDP', '.', 'Railways', '3', 'major', 'economic', 'railway', 'corridor', 'programme', 'identified', 'PM', 'Gati', 'Shakti', 'implemented', 'improve', 'logistics', 'efficiency', 'reduce', 'cost', 'Energy', ',', 'mineral', 'cement', 'corridor', 'Port', 'connectivity', 'corridor', 'High', 'traffic', 'density', 'corridor', 'Forty', 'thousand', 'normal', 'rail', 'bogy', 'converted', 'Vande', 'Bharat', 'standard', '.', 'Aviation', 'Sector', 'Number', 'airport', 'country', 'doubled', '149', '.', 'Five', 'hundred', 'seventeen', 'new', 'route', 'carrying', '1.3', 'crore', 'passenger', '.', 'Indian', 'carrier', 'placed', 'order', '1000', 'new', 'aircraft', '.', 'Green', 'Energy', 'Coal', 'gasification', 'liquefaction', 'capacity', '100', 'MT', 'set', '2030', '.', 'Phased', 'mandatory', 'blending', 'compressed', 'biogas', '(', 'CBG', ')', 'compressed', 'natural', 'gas', '(', 'CNG', ')', 'transport', 'piped', 'natural', 'gas', '(', 'PNG', ')', 'domestic', 'purpose', 'mandated', '.', 'Tourism', 'sector', 'States', 'encouraged', 'take', 'comprehensive', 'development', 'iconic', 'tourist', 'centre', 'including', 'branding', 'marketing', 'global', 'scale', '.', 'Framework', 'rating', 'tourist', 'centre', 'based', 'quality', 'facility', 'service', 'established', '.', 'Long-term', 'interest', 'free', 'loan', 'provided', 'States', 'financing', 'development', 'matching', 'basis', '.', 'Investments', 'FDI', 'inflow', '2014-23', 'USD', '596', 'billion', 'twice', 'inflow', '2005-14', '.', 'Reforms', 'States', '‘', 'Viksit', 'Bharat', '’', 'provision', 'Rs.75,000', 'crore', 'rupee', 'fifty-year', 'interest', 'free', 'loan', 'proposed', 'support', 'milestone-linked', 'reform', 'State', 'Governments', '.', 'Revised', 'Estimates', '(', ')', '2023-24', 'total', 'receipt', 'borrowing', 'Rs.27.56', 'lakh', 'crore', ',', 'tax', 'receipt', 'Rs.23.24', 'lakh', 'crore', '.', 'total', 'expenditure', 'Rs.44.90', 'lakh', 'crore', '.', 'Revenue', 'receipt', 'Rs.30.03', 'lakh', 'crore', 'expected', 'higher', 'Budget', 'Estimate', ',', 'reflecting', 'strong', 'growth', 'momentum', 'formalization', 'economy', '.', 'fiscal', 'deficit', '5.8', 'per', 'cent', 'GDP', '2023-24', '.', 'Budget', 'Estimates', '2024-25', 'Total', 'receipt', 'borrowing', 'total', 'expenditure', 'estimated', 'Rs.30.80', 'Rs.47.66', 'lakh', 'crore', 'respectively', '.', 'Tax', 'receipt', 'estimated', 'Rs.26.02', 'lakh', 'crore', '.', 'Scheme', 'fifty-year', 'interest', 'free', 'loan', 'capital', 'expenditure', 'state', 'continued', 'year', 'total', 'outlay', 'Rs.1.3', 'lakh', 'crore', '.', 'Fiscal', 'deficit', '2024-25', 'estimated', '5.1', 'per', 'cent', 'GDP', 'Gross', 'net', 'market', 'borrowing', 'dated', 'security', '2024-25', 'estimated', 'Rs.14.13', 'Rs.11.75', 'lakh', 'crore', 'respectively', '.', 'Part', 'B', 'Direct', 'tax', 'FM', 'proposes', 'retain', 'tax', 'rate', 'direct', 'tax', 'Direct', 'tax', 'collection', 'tripled', ',', 'return', 'filer', 'increased', '2.4', 'time', ',', 'last', '10', 'year', 'Government', 'improve', 'tax', 'payer', 'service', 'Outstanding', 'direct', 'tax', 'demand', 'upto', 'Rs', '25000', 'pertaining', 'period', 'upto', 'FY', '2009-10', 'withdrawn', 'Outstanding', 'direct', 'tax', 'demand', 'upto', 'Rs', '10000', 'financial', 'year', '2010-11', '2014-15', 'withdrawn', 'benefit', 'one', 'crore', 'tax', 'payer', 'Tax', 'benefit', 'Start-Ups', ',', 'investment', 'made', 'Sovereign', 'wealth', 'fund', 'pension', 'fund', 'extended', '31.03.2025', 'Tax', 'exemption', 'certain', 'income', 'IFSC', 'unit', 'extended', 'year', '31.03.2025', '31.03.2024', 'Indirect', 'tax', 'FM', 'proposes', 'retain', 'tax', 'rate', 'indirect', 'tax', 'import', 'duty', 'GST', 'unified', 'highly', 'fragmented', 'indirect', 'tax', 'regime', 'India', 'Average', 'monthly', 'gross', 'GST', 'collection', 'doubled', 'Rs', '1.66', 'lakh', 'crore', 'year', 'GST', 'tax', 'base', 'doubled', 'State', 'SGST', 'revenue', 'buoyancy', '(', 'including', 'compensation', 'released', 'state', ')', 'increased', '1.22', 'post-GST', 'period', '(', '2017-18', '2022-23', ')', '0.72', 'pre-GST', 'period', '(', '2012-13', '2015-16', ')', '94', '%', 'industry', 'leader', 'view', 'transition', 'GST', 'largely', 'positive', 'GST', 'led', 'supply', 'chain', 'optimization', 'GST', 'reduced', 'compliance', 'burden', 'trade', 'industry', 'Lower', 'logistics', 'cost', 'tax', 'helped', 'reduce', 'price', 'good', 'service', ',', 'benefiting', 'consumer', 'Tax', 'rationalization', 'effort', 'year', 'tax', 'liability', 'income', 'upto', 'Rs', '7', 'lakh', ',', 'Rs', '2.2', 'lakh', 'FY', '2013-14', 'Presumptive', 'taxation', 'threshold', 'retail', 'business', 'increased', 'Rs', '3', 'crore', 'Rs', '2', 'crore', 'Presumptive', 'taxation', 'threshold', 'professional', 'increased', 'Rs', '75', 'lakh', 'Rs', '50', 'lakh', 'Corporate', 'income', 'tax', 'decreased', '22', '%', '30', '%', 'existing', 'domestic', 'company', 'Corporate', 'income', 'tax', 'rate', '15', '%', 'new', 'manufacturing', 'company', 'Achievements', 'tax-payer', 'service', 'Average', 'processing', 'time', 'tax', 'return', 'reduced', '10', 'day', '93', 'day', '2013-14', 'Faceless', 'Assessment', 'Appeal', 'introduced', 'greater', 'efficiency', 'Updated', 'income', 'tax', 'return', ',', 'new', 'form', '26AS', 'prefilled', 'tax', 'return', 'simplified', 'return', 'filing', 'Reforms', 'custom', 'leading', 'reduced', 'Import', 'release', 'time', 'Reduction', '47', '%', '71', 'hour', 'Inland', 'Container', 'Depots', 'Reduction', '28', '%', '44', 'hour', 'Air', 'Cargo', 'complex', 'Reduction', '27', '%', '85', 'hour', 'Sea', 'Ports', 'Economy-then', '2014', 'responsibility', 'mend', 'economy', 'put', 'governance', 'system', 'order', '.', 'need', 'hour', ':', 'Attract', 'investment', 'Build', 'support', 'much-needed', 'reform', 'Give', 'hope', 'people', 'government', 'succeeded', 'strong', 'belief', '‘', 'nation-first', '’', '“', 'appropriate', 'look', 'till', '2014', '”', ':', 'FM', 'Government', 'lay', 'White', 'Paper', 'table', 'house', '.', '*', '*', '*', 'YB/NB/SNC/LP/KSS/RK/PD/CNAN', '(', 'Release', 'ID', ':', '2001130', ')', 'Visitor', 'Counter', ':', '32254', 'Read', 'release', ':', 'Kannada', ',', 'Malayalam', ',', 'Assamese', ',', 'Urdu', ',', 'Hindi', ',', 'Hindi', ',', 'Nepali', ',', 'Marathi', ',', 'Bengali', ',', 'Manipuri', ',', 'Punjabi', ',', 'Gujarati', ',', 'Odia', ',', 'Tamil', ',', 'Telugu', 'Ministry', 'Finance', 'HIGHLIGHTS', 'INTERIM', 'UNION', 'BUDGET', '2024-25', 'Posted', ':', '01', 'FEB', '2024', '12:54PM', 'PIB', 'Delhi', '‘', 'mantra', '’', '‘', 'Sabka', 'Saath', ',', 'Sabka', 'Vikas', ',', 'Sabka', 'Vishwas', '’', 'whole', 'nation', 'approach', '“', 'Sabka', 'Prayas', '”', ',', 'Union', 'Minister', 'Finance', 'Corporate', 'Affairs', 'Smt', '.', 'Nirmala', 'Sitharaman', 'presented', 'Interim', 'Union', 'Budget', '2024-25', 'Parliament', ',', 'today', '.', 'key', 'highlight', 'Budget', 'follows', ':', 'Part', 'Social', 'Justice', 'Prime', 'Minister', 'focus', 'upliftment', 'four', 'major', 'caste', ',', ',', '‘', 'Garib', '’', '(', 'Poor', ')', ',', '‘', 'Mahilayen', '’', '(', 'Women', ')', ',', '‘', 'Yuva', '’', '(', 'Youth', ')', '‘', 'Annadata', '’', '(', 'Farmer', ')', '.', '‘', 'Garib', 'Kalyan', ',', 'Desh', 'ka', 'Kalyan', '’', 'Government', 'assisted', '25', 'crore', 'people', 'multi-dimensional', 'poverty', 'last', '10', 'year', '.', 'DBT', 'Rs', '.', '34', 'lakh', 'crore', 'using', 'PM-Jan', 'Dhan', 'account', 'led', 'saving', 'Rs', '.', '2.7', 'lakh', 'crore', 'Government', '.', 'PM-SVANidhi', 'provided', 'credit', 'assistance', '78', 'lakh', 'street', 'vendor', '.', '2.3', 'lakh', 'received', 'credit', 'third', 'time', '.', 'PM-JANMAN', 'Yojana', 'aid', 'development', 'particularly', 'vulnerable', 'tribal', 'group', '(', 'PVTG', ')', '.', 'PM-Vishwakarma', 'Yojana', 'provides', 'end-to-end', 'support', 'artisan', 'craft', 'people', 'engaged', '18', 'trade', '.', 'Welfare', '‘', 'Annadata', '’', 'PM-KISAN', 'SAMMAN', 'Yojana', 'provided', 'financial', 'assistance', '11.8', 'crore', 'farmer', '.', 'PM', 'Fasal', 'BimaYojana', ',', 'crop', 'insurance', 'given', '4', 'crore', 'farmer', 'Electronic', 'National', 'Agriculture', 'Market', '(', 'e-NAM', ')', 'integrated', '1361', 'mandis', ',', 'providing', 'service', '1.8', 'crore', 'farmer', 'trading', 'volume', 'Rs', '.', '3', 'lakh', 'crore', '.', 'Momentum', 'Nari', 'Shakti', '30', 'crore', 'Mudra', 'Yojana', 'loan', 'given', 'woman', 'entrepreneur', '.', 'Female', 'enrolment', 'higher', 'education', 'gone', '28', '%', '.', 'STEM', 'course', ',', 'girl', 'woman', 'constitute', '43', '%', 'enrolment', ',', 'one', 'highest', 'world', '.', '70', '%', 'house', 'PM', 'Awas', 'Yojana', 'given', 'woman', 'rural', 'area', '.', 'PM', 'Awas', 'Yojana', '(', 'Grameen', ')', 'Despite', 'COVID', 'challenge', ',', 'target', 'three', 'crore', 'house', 'PM', 'Awas', 'Yojana', '(', 'Grameen', ')', 'achieved', 'soon', '.', 'Two', 'crore', 'house', 'taken', 'next', 'five', 'year', '.', 'Rooftop', 'solarization', 'muft', 'bijli', '1', 'crore', 'household', 'obtain', '300', 'unit', 'free', 'electricity', 'every', 'month', 'rooftop', 'solarization', '.', 'household', 'expected', 'save', 'Rs.15000', 'Rs.18000', 'annually', '.', 'Ayushman', 'Bharat', 'Healthcare', 'cover', 'Ayushman', 'Bharat', 'scheme', 'extended', 'ASHA', 'worker', ',', 'Anganwadi', 'Workers', 'Helpers', '.', 'Agriculture', 'food', 'processing', 'Pradhan', 'Mantri', 'Kisan', 'Sampada', 'Yojana', 'benefitted', '38', 'lakh', 'farmer', 'generated', '10', 'lakh', 'employment', '.', 'Pradhan', 'Mantri', 'Formalisation', 'Micro', 'Food', 'Processing', 'Enterprises', 'Yojana', 'assisted', '2.4', 'lakh', 'SHGs', '60000', 'individual', 'credit', 'linkage', '.', 'Research', 'Innovation', 'catalyzing', 'growth', ',', 'employment', 'development', 'corpus', 'Rs.1', 'lakh', 'crore', 'established', 'fifty-year', 'interest', 'free', 'loan', 'provide', 'long-term', 'financing', 'refinancing', 'long', 'tenor', 'low', 'nil', 'interest', 'rate', '.', 'new', 'scheme', 'launched', 'strengthening', 'deep-tech', 'technology', 'defence', 'purpose', 'expediting', '‘', 'atmanirbharta', '’', '.', 'Infrastructure', 'Capital', 'expenditure', 'outlay', 'Infrastructure', 'development', 'employment', 'generation', 'increased', '11.1', 'per', 'cent', 'Rs.11,11,111', 'crore', ',', '3.4', 'per', 'cent', 'GDP', '.', 'Railways', '3', 'major', 'economic', 'railway', 'corridor', 'programme', 'identified', 'PM', 'Gati', 'Shakti', 'implemented', 'improve', 'logistics', 'efficiency', 'reduce', 'cost', 'Energy', ',', 'mineral', 'cement', 'corridor', 'Port', 'connectivity', 'corridor', 'High', 'traffic', 'density', 'corridor', 'Forty', 'thousand', 'normal', 'rail', 'bogy', 'converted', 'Vande', 'Bharat', 'standard', '.', 'Aviation', 'Sector', 'Number', 'airport', 'country', 'doubled', '149', '.', 'Five', 'hundred', 'seventeen', 'new', 'route', 'carrying', '1.3', 'crore', 'passenger', '.', 'Indian', 'carrier', 'placed', 'order', '1000', 'new', 'aircraft', '.', 'Green', 'Energy', 'Coal', 'gasification', 'liquefaction', 'capacity', '100', 'MT', 'set', '2030', '.', 'Phased', 'mandatory', 'blending', 'compressed', 'biogas', '(', 'CBG', ')', 'compressed', 'natural', 'gas', '(', 'CNG', ')', 'transport', 'piped', 'natural', 'gas', '(', 'PNG', ')', 'domestic', 'purpose', 'mandated', '.', 'Tourism', 'sector', 'States', 'encouraged', 'take', 'comprehensive', 'development', 'iconic', 'tourist', 'centre', 'including', 'branding', 'marketing', 'global', 'scale', '.', 'Framework', 'rating', 'tourist', 'centre', 'based', 'quality', 'facility', 'service', 'established', '.', 'Long-term', 'interest', 'free', 'loan', 'provided', 'States', 'financing', 'development', 'matching', 'basis', '.', 'Investments', 'FDI', 'inflow', '2014-23', 'USD', '596', 'billion', 'twice', 'inflow', '2005-14', '.', 'Reforms', 'States', '‘', 'Viksit', 'Bharat', '’', 'provision', 'Rs.75,000', 'crore', 'rupee', 'fifty-year', 'interest', 'free', 'loan', 'proposed', 'support', 'milestone-linked', 'reform', 'State', 'Governments', '.', 'Revised', 'Estimates', '(', ')', '2023-24', 'total', 'receipt', 'borrowing', 'Rs.27.56', 'lakh', 'crore', ',', 'tax', 'receipt', 'Rs.23.24', 'lakh', 'crore', '.', 'total', 'expenditure', 'Rs.44.90', 'lakh', 'crore', '.', 'Revenue', 'receipt', 'Rs.30.03', 'lakh', 'crore', 'expected', 'higher', 'Budget', 'Estimate', ',', 'reflecting', 'strong', 'growth', 'momentum', 'formalization', 'economy', '.', 'fiscal', 'deficit', '5.8', 'per', 'cent', 'GDP', '2023-24', '.', 'Budget', 'Estimates', '2024-25', 'Total', 'receipt', 'borrowing', 'total', 'expenditure', 'estimated', 'Rs.30.80', 'Rs.47.66', 'lakh', 'crore', 'respectively', '.', 'Tax', 'receipt', 'estimated', 'Rs.26.02', 'lakh', 'crore', '.', 'Scheme', 'fifty-year', 'interest', 'free', 'loan', 'capital', 'expenditure', 'state', 'continued', 'year', 'total', 'outlay', 'Rs.1.3', 'lakh', 'crore', '.', 'Fiscal', 'deficit', '2024-25', 'estimated', '5.1', 'per', 'cent', 'GDP', 'Gross', 'net', 'market', 'borrowing', 'dated', 'security', '2024-25', 'estimated', 'Rs.14.13', 'Rs.11.75', 'lakh', 'crore', 'respectively', '.', 'Part', 'B', 'Direct', 'tax', 'FM', 'proposes', 'retain', 'tax', 'rate', 'direct', 'tax', 'Direct', 'tax', 'collection', 'tripled', ',', 'return', 'filer', 'increased', '2.4', 'time', ',', 'last', '10', 'year', 'Government', 'improve', 'tax', 'payer', 'service', 'Outstanding', 'direct', 'tax', 'demand', 'upto', 'Rs', '25000', 'pertaining', 'period', 'upto', 'FY', '2009-10', 'withdrawn', 'Outstanding', 'direct', 'tax', 'demand', 'upto', 'Rs', '10000', 'financial', 'year', '2010-11', '2014-15', 'withdrawn', 'benefit', 'one', 'crore', 'tax', 'payer', 'Tax', 'benefit', 'Start-Ups', ',', 'investment', 'made', 'Sovereign', 'wealth', 'fund', 'pension', 'fund', 'extended', '31.03.2025', 'Tax', 'exemption', 'certain', 'income', 'IFSC', 'unit', 'extended', 'year', '31.03.2025', '31.03.2024', 'Indirect', 'tax', 'FM', 'proposes', 'retain', 'tax', 'rate', 'indirect', 'tax', 'import', 'duty', 'GST', 'unified', 'highly', 'fragmented', 'indirect', 'tax', 'regime', 'India', 'Average', 'monthly', 'gross', 'GST', 'collection', 'doubled', 'Rs', '1.66', 'lakh', 'crore', 'year', 'GST', 'tax', 'base', 'doubled', 'State', 'SGST', 'revenue', 'buoyancy', '(', 'including', 'compensation', 'released', 'state', ')', 'increased', '1.22', 'post-GST', 'period', '(', '2017-18', '2022-23', ')', '0.72', 'pre-GST', 'period', '(', '2012-13', '2015-16', ')', '94', '%', 'industry', 'leader', 'view', 'transition', 'GST', 'largely', 'positive', 'GST', 'led', 'supply', 'chain', 'optimization', 'GST', 'reduced', 'compliance', 'burden', 'trade', 'industry', 'Lower', 'logistics', 'cost', 'tax', 'helped', 'reduce', 'price', 'good', 'service', ',', 'benefiting', 'consumer', 'Tax', 'rationalization', 'effort', 'year', 'tax', 'liability', 'income', 'upto', 'Rs', '7', 'lakh', ',', 'Rs', '2.2', 'lakh', 'FY', '2013-14', 'Presumptive', 'taxation', 'threshold', 'retail', 'business', 'increased', 'Rs', '3', 'crore', 'Rs', '2', 'crore', 'Presumptive', 'taxation', 'threshold', 'professional', 'increased', 'Rs', '75', 'lakh', 'Rs', '50', 'lakh', 'Corporate', 'income', 'tax', 'decreased', '22', '%', '30', '%', 'existing', 'domestic', 'company', 'Corporate', 'income', 'tax', 'rate', '15', '%', 'new', 'manufacturing', 'company', 'Achievements', 'tax-payer', 'service', 'Average', 'processing', 'time', 'tax', 'return', 'reduced', '10', 'day', '93', 'day', '2013-14', 'Faceless', 'Assessment', 'Appeal', 'introduced', 'greater', 'efficiency', 'Updated', 'income', 'tax', 'return', ',', 'new', 'form', '26AS', 'prefilled', 'tax', 'return', 'simplified', 'return', 'filing', 'Reforms', 'custom', 'leading', 'reduced', 'Import', 'release', 'time', 'Reduction', '47', '%', '71', 'hour', 'Inland', 'Container', 'Depots', 'Reduction', '28', '%', '44', 'hour', 'Air', 'Cargo', 'complex', 'Reduction', '27', '%', '85', 'hour', 'Sea', 'Ports', 'Economy-then', '2014', 'responsibility', 'mend', 'economy', 'put', 'governance', 'system', 'order', '.', 'need', 'hour', ':', 'Attract', 'investment', 'Build', 'support', 'much-needed', 'reform', 'Give', 'hope', 'people', 'government', 'succeeded', 'strong', 'belief', '‘', 'nation-first', '’', '“', 'appropriate', 'look', 'till', '2014', '”', ':', 'FM', 'Government', 'lay', 'White', 'Paper', 'table', 'house', '.', '*', '*', '*', 'YB/NB/SNC/LP/KSS/RK/PD/CNAN', '(', 'Release', 'ID', ':', '2001130', ')']\n"
     ]
    }
   ],
   "source": [
    "def preprocess_text(text):\n",
    "    # Tokenize the text into words\n",
    "    words = nltk.word_tokenize(text)\n",
    "    # Remove stop words\n",
    "    stop_words = set(nltk.corpus.stopwords.words('english'))\n",
    "    filtered_words = [word for word in words if word.lower() not in stop_words]\n",
    "    # Lemmatize the words\n",
    "    lemmatizer = WordNetLemmatizer()\n",
    "    lemmatized_words = [lemmatizer.lemmatize(word) for word in filtered_words]\n",
    "    return lemmatized_words    \n",
    "preprocessed_text = preprocess_text(scraped_text)\n",
    "print(preprocessed_text)"
   ]
  },
  {
   "cell_type": "code",
   "execution_count": 40,
   "id": "500eca52-d5ed-486c-a9ea-c2e0b559bb01",
   "metadata": {},
   "outputs": [
    {
     "name": "stdout",
     "output_type": "stream",
     "text": [
      "Negative  It is a bad day.\n",
      "Positive It is a good day.\n",
      "Total Sentences  99\n",
      "Positive sentences: 32 (32.32%)\n",
      "Negative sentences: 8 (8.08%)\n",
      "Neutral sentences: 59 (59.60%)\n"
     ]
    }
   ],
   "source": [
    " #Sentiment Analysis\n",
    "txt=\" \".join(preprocessed_text)\n",
    "blob = TextBlob(txt)\n",
    "positive = 0\n",
    "negative = 0\n",
    "neutral = 0\n",
    "\n",
    "for sentence in blob.sentences:\n",
    "  sentiment = sentence.sentiment\n",
    "  if sentiment.polarity > 0:\n",
    "    positive += 1\n",
    "  elif sentiment.polarity < 0:\n",
    "    negative += 1\n",
    "  else:\n",
    "    neutral += 1\n",
    "#Example\n",
    "sem=\" It is a bad day. It is a good day.\"\n",
    "bl=TextBlob(sem)\n",
    "for sm in bl.sentences:\n",
    "  sentiment = sm.sentiment\n",
    "  if sentiment.polarity > 0:\n",
    "    print(\"Positive\",sm)\n",
    "  elif sentiment.polarity < 0:\n",
    "    print(\"Negative\",sm)\n",
    "  else:\n",
    "    print(\"Neutral\",sm)\n",
    "# Calculating total sentences and percentages\n",
    "total_sentences = positive + negative + neutral\n",
    "print(\"Total Sentences \",total_sentences)\n",
    "positive_percentage = (positive / total_sentences) * 100\n",
    "negative_percentage = (negative / total_sentences) * 100\n",
    "neutral_percentage = (neutral / total_sentences) * 100\n",
    "\n",
    "# Printing results\n",
    "print(f\"Positive sentences: {positive} ({positive_percentage:.2f}%)\")\n",
    "print(f\"Negative sentences: {negative} ({negative_percentage:.2f}%)\")\n",
    "print(f\"Neutral sentences: {neutral} ({neutral_percentage:.2f}%)\")"
   ]
  },
  {
   "cell_type": "code",
   "execution_count": 6,
   "id": "f2e3333b-8b93-49ce-ba63-5315320afd5f",
   "metadata": {},
   "outputs": [
    {
     "data": {
      "text/plain": [
       "'Press Information Bureau Ministry Finance HIGHLIGHTS INTERIM UNION BUDGET 2024-25 Posted : 01 FEB 2024 12:54PM PIB Delhi ‘ mantra ’ ‘ Sabka Saath , Sabka Vikas , Sabka Vishwas ’ whole nation approach “ Sabka Prayas ” , Union Minister Finance Corporate Affairs Smt . Nirmala Sitharaman presented Interim Union Budget 2024-25 Parliament , today . key highlight Budget follows : Part Social Justice Prime Minister focus upliftment four major caste , , ‘ Garib ’ ( Poor ) , ‘ Mahilayen ’ ( Women ) , ‘ Yuva ’ ( Youth ) ‘ Annadata ’ ( Farmer ) . ‘ Garib Kalyan , Desh ka Kalyan ’ Government assisted 25 crore people multi-dimensional poverty last 10 year . DBT Rs . 34 lakh crore using PM-Jan Dhan account led saving Rs . 2.7 lakh crore Government . PM-SVANidhi provided credit assistance 78 lakh street vendor . 2.3 lakh received credit third time . PM-JANMAN Yojana aid development particularly vulnerable tribal group ( PVTG ) . PM-Vishwakarma Yojana provides end-to-end support artisan craft people engaged 18 trade . Welfare ‘ Annadata ’ PM-KISAN SAMMAN Yojana provided financial assistance 11.8 crore farmer . PM Fasal BimaYojana , crop insurance given 4 crore farmer Electronic National Agriculture Market ( e-NAM ) integrated 1361 mandis , providing service 1.8 crore farmer trading volume Rs . 3 lakh crore . Momentum Nari Shakti 30 crore Mudra Yojana loan given woman entrepreneur . Female enrolment higher education gone 28 % . STEM course , girl woman constitute 43 % enrolment , one highest world . 70 % house PM Awas Yojana given woman rural area . PM Awas Yojana ( Grameen ) Despite COVID challenge , target three crore house PM Awas Yojana ( Grameen ) achieved soon . Two crore house taken next five year . Rooftop solarization muft bijli 1 crore household obtain 300 unit free electricity every month rooftop solarization . household expected save Rs.15000 Rs.18000 annually . Ayushman Bharat Healthcare cover Ayushman Bharat scheme extended ASHA worker , Anganwadi Workers Helpers . Agriculture food processing Pradhan Mantri Kisan Sampada Yojana benefitted 38 lakh farmer generated 10 lakh employment . Pradhan Mantri Formalisation Micro Food Processing Enterprises Yojana assisted 2.4 lakh SHGs 60000 individual credit linkage . Research Innovation catalyzing growth , employment development corpus Rs.1 lakh crore established fifty-year interest free loan provide long-term financing refinancing long tenor low nil interest rate . new scheme launched strengthening deep-tech technology defence purpose expediting ‘ atmanirbharta ’ . Infrastructure Capital expenditure outlay Infrastructure development employment generation increased 11.1 per cent Rs.11,11,111 crore , 3.4 per cent GDP . Railways 3 major economic railway corridor programme identified PM Gati Shakti implemented improve logistics efficiency reduce cost Energy , mineral cement corridor Port connectivity corridor High traffic density corridor Forty thousand normal rail bogy converted Vande Bharat standard . Aviation Sector Number airport country doubled 149 . Five hundred seventeen new route carrying 1.3 crore passenger . Indian carrier placed order 1000 new aircraft . Green Energy Coal gasification liquefaction capacity 100 MT set 2030 . Phased mandatory blending compressed biogas ( CBG ) compressed natural gas ( CNG ) transport piped natural gas ( PNG ) domestic purpose mandated . Tourism sector States encouraged take comprehensive development iconic tourist centre including branding marketing global scale . Framework rating tourist centre based quality facility service established . Long-term interest free loan provided States financing development matching basis . Investments FDI inflow 2014-23 USD 596 billion twice inflow 2005-14 . Reforms States ‘ Viksit Bharat ’ provision Rs.75,000 crore rupee fifty-year interest free loan proposed support milestone-linked reform State Governments . Revised Estimates ( ) 2023-24 total receipt borrowing Rs.27.56 lakh crore , tax receipt Rs.23.24 lakh crore . total expenditure Rs.44.90 lakh crore . Revenue receipt Rs.30.03 lakh crore expected higher Budget Estimate , reflecting strong growth momentum formalization economy . fiscal deficit 5.8 per cent GDP 2023-24 . Budget Estimates 2024-25 Total receipt borrowing total expenditure estimated Rs.30.80 Rs.47.66 lakh crore respectively . Tax receipt estimated Rs.26.02 lakh crore . Scheme fifty-year interest free loan capital expenditure state continued year total outlay Rs.1.3 lakh crore . Fiscal deficit 2024-25 estimated 5.1 per cent GDP Gross net market borrowing dated security 2024-25 estimated Rs.14.13 Rs.11.75 lakh crore respectively . Part B Direct tax FM proposes retain tax rate direct tax Direct tax collection tripled , return filer increased 2.4 time , last 10 year Government improve tax payer service Outstanding direct tax demand upto Rs 25000 pertaining period upto FY 2009-10 withdrawn Outstanding direct tax demand upto Rs 10000 financial year 2010-11 2014-15 withdrawn benefit one crore tax payer Tax benefit Start-Ups , investment made Sovereign wealth fund pension fund extended 31.03.2025 Tax exemption certain income IFSC unit extended year 31.03.2025 31.03.2024 Indirect tax FM proposes retain tax rate indirect tax import duty GST unified highly fragmented indirect tax regime India Average monthly gross GST collection doubled Rs 1.66 lakh crore year GST tax base doubled State SGST revenue buoyancy ( including compensation released state ) increased 1.22 post-GST period ( 2017-18 2022-23 ) 0.72 pre-GST period ( 2012-13 2015-16 ) 94 % industry leader view transition GST largely positive GST led supply chain optimization GST reduced compliance burden trade industry Lower logistics cost tax helped reduce price good service , benefiting consumer Tax rationalization effort year tax liability income upto Rs 7 lakh , Rs 2.2 lakh FY 2013-14 Presumptive taxation threshold retail business increased Rs 3 crore Rs 2 crore Presumptive taxation threshold professional increased Rs 75 lakh Rs 50 lakh Corporate income tax decreased 22 % 30 % existing domestic company Corporate income tax rate 15 % new manufacturing company Achievements tax-payer service Average processing time tax return reduced 10 day 93 day 2013-14 Faceless Assessment Appeal introduced greater efficiency Updated income tax return , new form 26AS prefilled tax return simplified return filing Reforms custom leading reduced Import release time Reduction 47 % 71 hour Inland Container Depots Reduction 28 % 44 hour Air Cargo complex Reduction 27 % 85 hour Sea Ports Economy-then 2014 responsibility mend economy put governance system order . need hour : Attract investment Build support much-needed reform Give hope people government succeeded strong belief ‘ nation-first ’ “ appropriate look till 2014 ” : FM Government lay White Paper table house . * * * YB/NB/SNC/LP/KSS/RK/PD/CNAN ( Release ID : 2001130 ) Visitor Counter : 32198 Read release : Kannada , Malayalam , Assamese , Urdu , Hindi , Hindi , Nepali , Marathi , Bengali , Manipuri , Punjabi , Gujarati , Odia , Tamil , Telugu Ministry Finance HIGHLIGHTS INTERIM UNION BUDGET 2024-25 Posted : 01 FEB 2024 12:54PM PIB Delhi ‘ mantra ’ ‘ Sabka Saath , Sabka Vikas , Sabka Vishwas ’ whole nation approach “ Sabka Prayas ” , Union Minister Finance Corporate Affairs Smt . Nirmala Sitharaman presented Interim Union Budget 2024-25 Parliament , today . key highlight Budget follows : Part Social Justice Prime Minister focus upliftment four major caste , , ‘ Garib ’ ( Poor ) , ‘ Mahilayen ’ ( Women ) , ‘ Yuva ’ ( Youth ) ‘ Annadata ’ ( Farmer ) . ‘ Garib Kalyan , Desh ka Kalyan ’ Government assisted 25 crore people multi-dimensional poverty last 10 year . DBT Rs . 34 lakh crore using PM-Jan Dhan account led saving Rs . 2.7 lakh crore Government . PM-SVANidhi provided credit assistance 78 lakh street vendor . 2.3 lakh received credit third time . PM-JANMAN Yojana aid development particularly vulnerable tribal group ( PVTG ) . PM-Vishwakarma Yojana provides end-to-end support artisan craft people engaged 18 trade . Welfare ‘ Annadata ’ PM-KISAN SAMMAN Yojana provided financial assistance 11.8 crore farmer . PM Fasal BimaYojana , crop insurance given 4 crore farmer Electronic National Agriculture Market ( e-NAM ) integrated 1361 mandis , providing service 1.8 crore farmer trading volume Rs . 3 lakh crore . Momentum Nari Shakti 30 crore Mudra Yojana loan given woman entrepreneur . Female enrolment higher education gone 28 % . STEM course , girl woman constitute 43 % enrolment , one highest world . 70 % house PM Awas Yojana given woman rural area . PM Awas Yojana ( Grameen ) Despite COVID challenge , target three crore house PM Awas Yojana ( Grameen ) achieved soon . Two crore house taken next five year . Rooftop solarization muft bijli 1 crore household obtain 300 unit free electricity every month rooftop solarization . household expected save Rs.15000 Rs.18000 annually . Ayushman Bharat Healthcare cover Ayushman Bharat scheme extended ASHA worker , Anganwadi Workers Helpers . Agriculture food processing Pradhan Mantri Kisan Sampada Yojana benefitted 38 lakh farmer generated 10 lakh employment . Pradhan Mantri Formalisation Micro Food Processing Enterprises Yojana assisted 2.4 lakh SHGs 60000 individual credit linkage . Research Innovation catalyzing growth , employment development corpus Rs.1 lakh crore established fifty-year interest free loan provide long-term financing refinancing long tenor low nil interest rate . new scheme launched strengthening deep-tech technology defence purpose expediting ‘ atmanirbharta ’ . Infrastructure Capital expenditure outlay Infrastructure development employment generation increased 11.1 per cent Rs.11,11,111 crore , 3.4 per cent GDP . Railways 3 major economic railway corridor programme identified PM Gati Shakti implemented improve logistics efficiency reduce cost Energy , mineral cement corridor Port connectivity corridor High traffic density corridor Forty thousand normal rail bogy converted Vande Bharat standard . Aviation Sector Number airport country doubled 149 . Five hundred seventeen new route carrying 1.3 crore passenger . Indian carrier placed order 1000 new aircraft . Green Energy Coal gasification liquefaction capacity 100 MT set 2030 . Phased mandatory blending compressed biogas ( CBG ) compressed natural gas ( CNG ) transport piped natural gas ( PNG ) domestic purpose mandated . Tourism sector States encouraged take comprehensive development iconic tourist centre including branding marketing global scale . Framework rating tourist centre based quality facility service established . Long-term interest free loan provided States financing development matching basis . Investments FDI inflow 2014-23 USD 596 billion twice inflow 2005-14 . Reforms States ‘ Viksit Bharat ’ provision Rs.75,000 crore rupee fifty-year interest free loan proposed support milestone-linked reform State Governments . Revised Estimates ( ) 2023-24 total receipt borrowing Rs.27.56 lakh crore , tax receipt Rs.23.24 lakh crore . total expenditure Rs.44.90 lakh crore . Revenue receipt Rs.30.03 lakh crore expected higher Budget Estimate , reflecting strong growth momentum formalization economy . fiscal deficit 5.8 per cent GDP 2023-24 . Budget Estimates 2024-25 Total receipt borrowing total expenditure estimated Rs.30.80 Rs.47.66 lakh crore respectively . Tax receipt estimated Rs.26.02 lakh crore . Scheme fifty-year interest free loan capital expenditure state continued year total outlay Rs.1.3 lakh crore . Fiscal deficit 2024-25 estimated 5.1 per cent GDP Gross net market borrowing dated security 2024-25 estimated Rs.14.13 Rs.11.75 lakh crore respectively . Part B Direct tax FM proposes retain tax rate direct tax Direct tax collection tripled , return filer increased 2.4 time , last 10 year Government improve tax payer service Outstanding direct tax demand upto Rs 25000 pertaining period upto FY 2009-10 withdrawn Outstanding direct tax demand upto Rs 10000 financial year 2010-11 2014-15 withdrawn benefit one crore tax payer Tax benefit Start-Ups , investment made Sovereign wealth fund pension fund extended 31.03.2025 Tax exemption certain income IFSC unit extended year 31.03.2025 31.03.2024 Indirect tax FM proposes retain tax rate indirect tax import duty GST unified highly fragmented indirect tax regime India Average monthly gross GST collection doubled Rs 1.66 lakh crore year GST tax base doubled State SGST revenue buoyancy ( including compensation released state ) increased 1.22 post-GST period ( 2017-18 2022-23 ) 0.72 pre-GST period ( 2012-13 2015-16 ) 94 % industry leader view transition GST largely positive GST led supply chain optimization GST reduced compliance burden trade industry Lower logistics cost tax helped reduce price good service , benefiting consumer Tax rationalization effort year tax liability income upto Rs 7 lakh , Rs 2.2 lakh FY 2013-14 Presumptive taxation threshold retail business increased Rs 3 crore Rs 2 crore Presumptive taxation threshold professional increased Rs 75 lakh Rs 50 lakh Corporate income tax decreased 22 % 30 % existing domestic company Corporate income tax rate 15 % new manufacturing company Achievements tax-payer service Average processing time tax return reduced 10 day 93 day 2013-14 Faceless Assessment Appeal introduced greater efficiency Updated income tax return , new form 26AS prefilled tax return simplified return filing Reforms custom leading reduced Import release time Reduction 47 % 71 hour Inland Container Depots Reduction 28 % 44 hour Air Cargo complex Reduction 27 % 85 hour Sea Ports Economy-then 2014 responsibility mend economy put governance system order . need hour : Attract investment Build support much-needed reform Give hope people government succeeded strong belief ‘ nation-first ’ “ appropriate look till 2014 ” : FM Government lay White Paper table house . * * * YB/NB/SNC/LP/KSS/RK/PD/CNAN ( Release ID : 2001130 )'"
      ]
     },
     "execution_count": 6,
     "metadata": {},
     "output_type": "execute_result"
    }
   ],
   "source": [
    "txt"
   ]
  },
  {
   "cell_type": "code",
   "execution_count": 41,
   "id": "a20bf352-1ad3-4624-99d4-72371679f9e0",
   "metadata": {},
   "outputs": [
    {
     "name": "stderr",
     "output_type": "stream",
     "text": [
      "Token indices sequence length is longer than the specified maximum sequence length for this model (3411 > 512). Running this sequence through the model will result in indexing errors\n"
     ]
    },
    {
     "name": "stdout",
     "output_type": "stream",
     "text": [
      "[{'summary_text': 'Prime Minister Nirmala Sitharaman presented Interim Union Budget 2024-25 Parliament . Key highlight Budget follows: Part Social Justice Prime Minister focus upliftment four major caste . Welfare ‘ Annadata’ PM-KISAN SAMMAN Yojana provided financial assistance 11.8 crore farmer . Government assisted 25 crore people multi-dimensional poverty last 10 year .'}]\n"
     ]
    }
   ],
   "source": [
    "\n",
    "summarizer = pipeline(\"summarization\", model=\"Falconsai/text_summarization\")\n",
    "print(summarizer(txt, max_length=1000, min_length=50, do_sample=False))"
   ]
  },
  {
   "cell_type": "code",
   "execution_count": null,
   "id": "1e6cf70f-c522-4f75-a9b1-a290a405a7cb",
   "metadata": {},
   "outputs": [],
   "source": []
  }
 ],
 "metadata": {
  "kernelspec": {
   "display_name": "Python 3 (ipykernel)",
   "language": "python",
   "name": "python3"
  },
  "language_info": {
   "codemirror_mode": {
    "name": "ipython",
    "version": 3
   },
   "file_extension": ".py",
   "mimetype": "text/x-python",
   "name": "python",
   "nbconvert_exporter": "python",
   "pygments_lexer": "ipython3",
   "version": "3.11.5"
  }
 },
 "nbformat": 4,
 "nbformat_minor": 5
}
